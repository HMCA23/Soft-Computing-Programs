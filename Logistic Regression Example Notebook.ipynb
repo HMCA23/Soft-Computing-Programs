{
 "cells": [
  {
   "cell_type": "markdown",
   "metadata": {},
   "source": [
    "## Logistic Regression Example \n",
    "\n",
    "This is an example of a logistic regression model in Python with the scikit-learn module. The Logistic Regression technique is used for classification tasks in which we try to find binary outcomes. \n",
    "This type of outcomes describe if a certain event happens or not, as an example: if a student fails a course or not. The input variables that are taken into account for this type of problems can be either continuous. For the student failing example a continuous variable would be its grade for a previous course and a discrete value would be the number of absences it has. \n",
    "For this type of data for the input and output it is useful to use the probabilities of each variable (or event) happening. Our objective will then be to find the conditional probability of the output (Y) given a certain feature vector of inputs (X). Such probability is noted as: Pr(Y|X). The output is a binary variable that will take the value of 1 if the event happens (ex. the student failed the course) and the value of 0 if it does not (ex. the student did not fail the course). The vector X is a feature vector that describes the characteristics of the input. \n",
    " There are many methods to estimate value of a conditional probability and one of the most used for classification tasks is Logistical Regression (LogR). LogR models the conditional probability Pr(Y=1|X=x) as a function of x: p(x). All the unknown parameters will be estimated with maximum likelihood which is a method that selects the set of values of the model parameters that maximizes the likelihood function: \n",
    "$$L(\\beta_0,\\beta) = \\prod_{i=1}^{n}p(x_i)^{y_i}(1-p(x_i))^{1-y_i}$$\n",
    "The maximization of this function is done by obtaining the logarithm of the function, differentiate with respect to the parameters and equal to zero to solve. \n",
    "When we train a classifier of this kind we feed the training data-points with its feature vector $x_i$ and its observed class $y_i$. The model uses this information to compute the probability distribution that defines the likelihood function. \n",
    "The Scikit-learn module enables us to use the LogR model by using the function LinearRegression() with our data set. \n",
    "We will show an example of the implementation of this model to analyze a database of student performance. The data describes different attributes of the students such as grades, demographic, social and school related features. Our objective will be to determine the probability of a student failing given its characteristic attributes.  \n"
   ]
  },
  {
   "cell_type": "markdown",
   "metadata": {},
   "source": [
    "## Dataset\n",
    "\n",
    "The dataset we will use is the Student Performance Data Set (http://archive.ics.uci.edu/ml/datasets/Student+Performance) from the UCI Machine Learning repository(http://archive.ics.uci.edu/ml/index.html). It describes student achievement in secondary education of two schools in Portugal. We will focus on the performance in the subject of Mathematics. \n"
   ]
  },
  {
   "cell_type": "markdown",
   "metadata": {},
   "source": [
    "### Description of Variables\n",
    "\n",
    "The dataset contains 649 observations and we will use 14 variables:\n",
    "1.\tsex - student's sex (binary: 'F' - female or 'M' - male) \n",
    "2.\tage - student's age (numeric: from 15 to 22) \n",
    "3.\taddress - student's home address type (binary: 'U' - urban or 'R' - rural) \n",
    "4.\tPstatus - parent's cohabitation status (binary: 'T' - living together or 'A' - apart) \n",
    "5.\ttraveltime - home to school travel time (numeric: 1 - <15 min., 2 - 15 to 30 min., 3 - 30 min. to 1 hour, or 4 - >1 hour) \n",
    "6.\tstudytime - weekly study time (numeric: 1 - <2 hours, 2 - 2 to 5 hours, 3 - 5 to 10 hours, or 4 - >10 hours) \n",
    "7.\tfailures - number of past class failures (numeric: n if 1<=n<3, else 4) \n",
    "8.\tfamrel - quality of family relationships (numeric: from 1 - very bad to 5 - excellent) \n",
    "9.\tfreetime - free time after school (numeric: from 1 - very low to 5 - very high)\n",
    "10.\tgoout - going out with friends (numeric: from 1 - very low to 5 - very high) \n",
    "11.\tDalc - workday alcohol consumption (numeric: from 1 - very low to 5 - very high) \n",
    "12.\tWalc - weekend alcohol consumption (numeric: from 1 - very low to 5 - very high) \n",
    "13.\tabsences - number of school absences (numeric: from 0 to 93)\n",
    "14.\tG3 - final grade (numeric: from 0 to 20, output target)\n"
   ]
  },
  {
   "cell_type": "markdown",
   "metadata": {},
   "source": [
    "## Problem Statement\n",
    "\n",
    "In order to use this dataset for a classification problem I created a new binary variable: fail. I considered that a failing grade would be below a score of 12 so for all the grades (G3) that are below this grade will recieve a 1 in the fail variable and a 0 if it is above it. Our objective will then be to predict the classification for each student.\n"
   ]
  },
  {
   "cell_type": "markdown",
   "metadata": {},
   "source": [
    "## Import modules"
   ]
  },
  {
   "cell_type": "code",
   "execution_count": 34,
   "metadata": {
    "collapsed": true
   },
   "outputs": [],
   "source": [
    "import numpy as np\n",
    "import pandas as pd\n",
    "import matplotlib.pyplot as plt\n",
    "from patsy import dmatrices\n",
    "from sklearn.linear_model import LogisticRegression\n",
    "from sklearn.cross_validation import train_test_split\n",
    "from sklearn import metrics\n",
    "from sklearn.cross_validation import cross_val_score"
   ]
  },
  {
   "cell_type": "markdown",
   "metadata": {},
   "source": [
    "## Data Pre-Processing\n",
    "\n",
    "To load the data set we use ps.read_csv to read a file in this format. To use this function we first write the address of the location of the data, then the symbol used for separation (;) and finally the columns we want to select from the dataset since I decided not to use all the available information from the original dataset for this problem. We do this by using the command ‘usecols’ and writing the index of the columns I wanted to use.\n",
    " Notice that the first column of the data set contains the names of each column and we will be able to make reference to each column by its name (for example: data.age)"
   ]
  },
  {
   "cell_type": "code",
   "execution_count": 35,
   "metadata": {
    "collapsed": false
   },
   "outputs": [
    {
     "data": {
      "text/html": [
       "<div>\n",
       "<table border=\"1\" class=\"dataframe\">\n",
       "  <thead>\n",
       "    <tr style=\"text-align: right;\">\n",
       "      <th></th>\n",
       "      <th>sex</th>\n",
       "      <th>age</th>\n",
       "      <th>address</th>\n",
       "      <th>Pstatus</th>\n",
       "      <th>traveltime</th>\n",
       "      <th>studytime</th>\n",
       "      <th>failures</th>\n",
       "      <th>famrel</th>\n",
       "      <th>freetime</th>\n",
       "      <th>goout</th>\n",
       "      <th>Dalc</th>\n",
       "      <th>Walc</th>\n",
       "      <th>absences</th>\n",
       "      <th>G3</th>\n",
       "    </tr>\n",
       "  </thead>\n",
       "  <tbody>\n",
       "    <tr>\n",
       "      <th>0</th>\n",
       "      <td>F</td>\n",
       "      <td>18</td>\n",
       "      <td>U</td>\n",
       "      <td>A</td>\n",
       "      <td>2</td>\n",
       "      <td>2</td>\n",
       "      <td>0</td>\n",
       "      <td>4</td>\n",
       "      <td>3</td>\n",
       "      <td>4</td>\n",
       "      <td>1</td>\n",
       "      <td>1</td>\n",
       "      <td>6</td>\n",
       "      <td>6</td>\n",
       "    </tr>\n",
       "    <tr>\n",
       "      <th>1</th>\n",
       "      <td>F</td>\n",
       "      <td>17</td>\n",
       "      <td>U</td>\n",
       "      <td>T</td>\n",
       "      <td>1</td>\n",
       "      <td>2</td>\n",
       "      <td>0</td>\n",
       "      <td>5</td>\n",
       "      <td>3</td>\n",
       "      <td>3</td>\n",
       "      <td>1</td>\n",
       "      <td>1</td>\n",
       "      <td>4</td>\n",
       "      <td>6</td>\n",
       "    </tr>\n",
       "    <tr>\n",
       "      <th>2</th>\n",
       "      <td>F</td>\n",
       "      <td>15</td>\n",
       "      <td>U</td>\n",
       "      <td>T</td>\n",
       "      <td>1</td>\n",
       "      <td>2</td>\n",
       "      <td>3</td>\n",
       "      <td>4</td>\n",
       "      <td>3</td>\n",
       "      <td>2</td>\n",
       "      <td>2</td>\n",
       "      <td>3</td>\n",
       "      <td>10</td>\n",
       "      <td>10</td>\n",
       "    </tr>\n",
       "  </tbody>\n",
       "</table>\n",
       "</div>"
      ],
      "text/plain": [
       "  sex  age address Pstatus  traveltime  studytime  failures  famrel  freetime  \\\n",
       "0   F   18       U       A           2          2         0       4         3   \n",
       "1   F   17       U       T           1          2         0       5         3   \n",
       "2   F   15       U       T           1          2         3       4         3   \n",
       "\n",
       "   goout  Dalc  Walc  absences  G3  \n",
       "0      4     1     1         6   6  \n",
       "1      3     1     1         4   6  \n",
       "2      2     2     3        10  10  "
      ]
     },
     "execution_count": 35,
     "metadata": {},
     "output_type": "execute_result"
    }
   ],
   "source": [
    "#Load the data base using only the columns we need: pc_price, pc_volume, daysto_nd, return_nd\n",
    "#data = pd.read_csv('C:\\Users\\Gabriela Sandoval\\Documents\\IPython Notebooks\\student-mat.csv',sep =(';'), usecols=[1,2,3,5,12,13,14,23,24,25,26,27,29,32])\n",
    "#(http://archive.ics.uci.edu/ml/datasets/Student+Performance\n",
    "data = pd.read_csv('student-mat.csv',sep =(';'), usecols=[1,2,3,5,12,13,14,23,24,25,26,27,29,32])\n",
    "#(http://archive.ics.uci.edu/ml/datasets/Student+Performance\n",
    "data[:3]"
   ]
  },
  {
   "cell_type": "markdown",
   "metadata": {},
   "source": [
    "To add the column for the new binary variable we select to have the value of 1 if the value of the column G3 is below 12. "
   ]
  },
  {
   "cell_type": "code",
   "execution_count": 36,
   "metadata": {
    "collapsed": false
   },
   "outputs": [
    {
     "data": {
      "text/html": [
       "<div>\n",
       "<table border=\"1\" class=\"dataframe\">\n",
       "  <thead>\n",
       "    <tr style=\"text-align: right;\">\n",
       "      <th></th>\n",
       "      <th>sex</th>\n",
       "      <th>age</th>\n",
       "      <th>address</th>\n",
       "      <th>Pstatus</th>\n",
       "      <th>traveltime</th>\n",
       "      <th>studytime</th>\n",
       "      <th>failures</th>\n",
       "      <th>famrel</th>\n",
       "      <th>freetime</th>\n",
       "      <th>goout</th>\n",
       "      <th>Dalc</th>\n",
       "      <th>Walc</th>\n",
       "      <th>absences</th>\n",
       "      <th>G3</th>\n",
       "      <th>fail</th>\n",
       "    </tr>\n",
       "  </thead>\n",
       "  <tbody>\n",
       "    <tr>\n",
       "      <th>0</th>\n",
       "      <td>F</td>\n",
       "      <td>18</td>\n",
       "      <td>U</td>\n",
       "      <td>A</td>\n",
       "      <td>2</td>\n",
       "      <td>2</td>\n",
       "      <td>0</td>\n",
       "      <td>4</td>\n",
       "      <td>3</td>\n",
       "      <td>4</td>\n",
       "      <td>1</td>\n",
       "      <td>1</td>\n",
       "      <td>6</td>\n",
       "      <td>6</td>\n",
       "      <td>1</td>\n",
       "    </tr>\n",
       "    <tr>\n",
       "      <th>1</th>\n",
       "      <td>F</td>\n",
       "      <td>17</td>\n",
       "      <td>U</td>\n",
       "      <td>T</td>\n",
       "      <td>1</td>\n",
       "      <td>2</td>\n",
       "      <td>0</td>\n",
       "      <td>5</td>\n",
       "      <td>3</td>\n",
       "      <td>3</td>\n",
       "      <td>1</td>\n",
       "      <td>1</td>\n",
       "      <td>4</td>\n",
       "      <td>6</td>\n",
       "      <td>1</td>\n",
       "    </tr>\n",
       "    <tr>\n",
       "      <th>2</th>\n",
       "      <td>F</td>\n",
       "      <td>15</td>\n",
       "      <td>U</td>\n",
       "      <td>T</td>\n",
       "      <td>1</td>\n",
       "      <td>2</td>\n",
       "      <td>3</td>\n",
       "      <td>4</td>\n",
       "      <td>3</td>\n",
       "      <td>2</td>\n",
       "      <td>2</td>\n",
       "      <td>3</td>\n",
       "      <td>10</td>\n",
       "      <td>10</td>\n",
       "      <td>1</td>\n",
       "    </tr>\n",
       "  </tbody>\n",
       "</table>\n",
       "</div>"
      ],
      "text/plain": [
       "  sex  age address Pstatus  traveltime  studytime  failures  famrel  freetime  \\\n",
       "0   F   18       U       A           2          2         0       4         3   \n",
       "1   F   17       U       T           1          2         0       5         3   \n",
       "2   F   15       U       T           1          2         3       4         3   \n",
       "\n",
       "   goout  Dalc  Walc  absences  G3  fail  \n",
       "0      4     1     1         6   6     1  \n",
       "1      3     1     1         4   6     1  \n",
       "2      2     2     3        10  10     1  "
      ]
     },
     "execution_count": 36,
     "metadata": {},
     "output_type": "execute_result"
    }
   ],
   "source": [
    "# Add \"fail\" column: 1 represents failing, 0 represents not failing\n",
    "data['fail'] = (data.G3 < 12).astype(int)\n",
    "data[:3]"
   ]
  },
  {
   "cell_type": "markdown",
   "metadata": {},
   "source": [
    "## Data Exploration"
   ]
  },
  {
   "cell_type": "code",
   "execution_count": 37,
   "metadata": {
    "collapsed": false
   },
   "outputs": [
    {
     "data": {
      "text/html": [
       "<div>\n",
       "<table border=\"1\" class=\"dataframe\">\n",
       "  <thead>\n",
       "    <tr style=\"text-align: right;\">\n",
       "      <th></th>\n",
       "      <th>age</th>\n",
       "      <th>traveltime</th>\n",
       "      <th>studytime</th>\n",
       "      <th>failures</th>\n",
       "      <th>famrel</th>\n",
       "      <th>freetime</th>\n",
       "      <th>goout</th>\n",
       "      <th>Dalc</th>\n",
       "      <th>Walc</th>\n",
       "      <th>absences</th>\n",
       "      <th>G3</th>\n",
       "    </tr>\n",
       "    <tr>\n",
       "      <th>fail</th>\n",
       "      <th></th>\n",
       "      <th></th>\n",
       "      <th></th>\n",
       "      <th></th>\n",
       "      <th></th>\n",
       "      <th></th>\n",
       "      <th></th>\n",
       "      <th></th>\n",
       "      <th></th>\n",
       "      <th></th>\n",
       "      <th></th>\n",
       "    </tr>\n",
       "  </thead>\n",
       "  <tbody>\n",
       "    <tr>\n",
       "      <th>0</th>\n",
       "      <td>16.481481</td>\n",
       "      <td>1.358025</td>\n",
       "      <td>2.104938</td>\n",
       "      <td>0.104938</td>\n",
       "      <td>3.956790</td>\n",
       "      <td>3.259259</td>\n",
       "      <td>2.938272</td>\n",
       "      <td>1.413580</td>\n",
       "      <td>2.129630</td>\n",
       "      <td>4.635802</td>\n",
       "      <td>14.425926</td>\n",
       "    </tr>\n",
       "    <tr>\n",
       "      <th>1</th>\n",
       "      <td>16.845494</td>\n",
       "      <td>1.510730</td>\n",
       "      <td>1.987124</td>\n",
       "      <td>0.493562</td>\n",
       "      <td>3.935622</td>\n",
       "      <td>3.218884</td>\n",
       "      <td>3.227468</td>\n",
       "      <td>1.527897</td>\n",
       "      <td>2.403433</td>\n",
       "      <td>6.454936</td>\n",
       "      <td>7.626609</td>\n",
       "    </tr>\n",
       "  </tbody>\n",
       "</table>\n",
       "</div>"
      ],
      "text/plain": [
       "            age  traveltime  studytime  failures    famrel  freetime  \\\n",
       "fail                                                                   \n",
       "0     16.481481    1.358025   2.104938  0.104938  3.956790  3.259259   \n",
       "1     16.845494    1.510730   1.987124  0.493562  3.935622  3.218884   \n",
       "\n",
       "         goout      Dalc      Walc  absences         G3  \n",
       "fail                                                     \n",
       "0     2.938272  1.413580  2.129630  4.635802  14.425926  \n",
       "1     3.227468  1.527897  2.403433  6.454936   7.626609  "
      ]
     },
     "execution_count": 37,
     "metadata": {},
     "output_type": "execute_result"
    }
   ],
   "source": [
    "data.groupby('fail').mean()"
   ]
  },
  {
   "cell_type": "markdown",
   "metadata": {},
   "source": [
    "We can display the first three rows of our database:"
   ]
  },
  {
   "cell_type": "code",
   "execution_count": 38,
   "metadata": {
    "collapsed": false
   },
   "outputs": [
    {
     "data": {
      "text/html": [
       "<div>\n",
       "<table border=\"1\" class=\"dataframe\">\n",
       "  <thead>\n",
       "    <tr style=\"text-align: right;\">\n",
       "      <th></th>\n",
       "      <th>sex</th>\n",
       "      <th>age</th>\n",
       "      <th>address</th>\n",
       "      <th>Pstatus</th>\n",
       "      <th>traveltime</th>\n",
       "      <th>studytime</th>\n",
       "      <th>failures</th>\n",
       "      <th>famrel</th>\n",
       "      <th>freetime</th>\n",
       "      <th>goout</th>\n",
       "      <th>Dalc</th>\n",
       "      <th>Walc</th>\n",
       "      <th>absences</th>\n",
       "      <th>G3</th>\n",
       "      <th>fail</th>\n",
       "    </tr>\n",
       "  </thead>\n",
       "  <tbody>\n",
       "    <tr>\n",
       "      <th>0</th>\n",
       "      <td>F</td>\n",
       "      <td>18</td>\n",
       "      <td>U</td>\n",
       "      <td>A</td>\n",
       "      <td>2</td>\n",
       "      <td>2</td>\n",
       "      <td>0</td>\n",
       "      <td>4</td>\n",
       "      <td>3</td>\n",
       "      <td>4</td>\n",
       "      <td>1</td>\n",
       "      <td>1</td>\n",
       "      <td>6</td>\n",
       "      <td>6</td>\n",
       "      <td>1</td>\n",
       "    </tr>\n",
       "    <tr>\n",
       "      <th>1</th>\n",
       "      <td>F</td>\n",
       "      <td>17</td>\n",
       "      <td>U</td>\n",
       "      <td>T</td>\n",
       "      <td>1</td>\n",
       "      <td>2</td>\n",
       "      <td>0</td>\n",
       "      <td>5</td>\n",
       "      <td>3</td>\n",
       "      <td>3</td>\n",
       "      <td>1</td>\n",
       "      <td>1</td>\n",
       "      <td>4</td>\n",
       "      <td>6</td>\n",
       "      <td>1</td>\n",
       "    </tr>\n",
       "    <tr>\n",
       "      <th>2</th>\n",
       "      <td>F</td>\n",
       "      <td>15</td>\n",
       "      <td>U</td>\n",
       "      <td>T</td>\n",
       "      <td>1</td>\n",
       "      <td>2</td>\n",
       "      <td>3</td>\n",
       "      <td>4</td>\n",
       "      <td>3</td>\n",
       "      <td>2</td>\n",
       "      <td>2</td>\n",
       "      <td>3</td>\n",
       "      <td>10</td>\n",
       "      <td>10</td>\n",
       "      <td>1</td>\n",
       "    </tr>\n",
       "  </tbody>\n",
       "</table>\n",
       "</div>"
      ],
      "text/plain": [
       "  sex  age address Pstatus  traveltime  studytime  failures  famrel  freetime  \\\n",
       "0   F   18       U       A           2          2         0       4         3   \n",
       "1   F   17       U       T           1          2         0       5         3   \n",
       "2   F   15       U       T           1          2         3       4         3   \n",
       "\n",
       "   goout  Dalc  Walc  absences  G3  fail  \n",
       "0      4     1     1         6   6     1  \n",
       "1      3     1     1         4   6     1  \n",
       "2      2     2     3        10  10     1  "
      ]
     },
     "execution_count": 38,
     "metadata": {},
     "output_type": "execute_result"
    }
   ],
   "source": [
    "data[:3]"
   ]
  },
  {
   "cell_type": "markdown",
   "metadata": {},
   "source": [
    "We can view our database grouped by the failures and the means for the other variables. "
   ]
  },
  {
   "cell_type": "code",
   "execution_count": 39,
   "metadata": {
    "collapsed": false
   },
   "outputs": [
    {
     "data": {
      "text/html": [
       "<div>\n",
       "<table border=\"1\" class=\"dataframe\">\n",
       "  <thead>\n",
       "    <tr style=\"text-align: right;\">\n",
       "      <th></th>\n",
       "      <th>age</th>\n",
       "      <th>traveltime</th>\n",
       "      <th>studytime</th>\n",
       "      <th>failures</th>\n",
       "      <th>famrel</th>\n",
       "      <th>freetime</th>\n",
       "      <th>goout</th>\n",
       "      <th>Dalc</th>\n",
       "      <th>Walc</th>\n",
       "      <th>absences</th>\n",
       "      <th>G3</th>\n",
       "    </tr>\n",
       "    <tr>\n",
       "      <th>fail</th>\n",
       "      <th></th>\n",
       "      <th></th>\n",
       "      <th></th>\n",
       "      <th></th>\n",
       "      <th></th>\n",
       "      <th></th>\n",
       "      <th></th>\n",
       "      <th></th>\n",
       "      <th></th>\n",
       "      <th></th>\n",
       "      <th></th>\n",
       "    </tr>\n",
       "  </thead>\n",
       "  <tbody>\n",
       "    <tr>\n",
       "      <th>0</th>\n",
       "      <td>16.481481</td>\n",
       "      <td>1.358025</td>\n",
       "      <td>2.104938</td>\n",
       "      <td>0.104938</td>\n",
       "      <td>3.956790</td>\n",
       "      <td>3.259259</td>\n",
       "      <td>2.938272</td>\n",
       "      <td>1.413580</td>\n",
       "      <td>2.129630</td>\n",
       "      <td>4.635802</td>\n",
       "      <td>14.425926</td>\n",
       "    </tr>\n",
       "    <tr>\n",
       "      <th>1</th>\n",
       "      <td>16.845494</td>\n",
       "      <td>1.510730</td>\n",
       "      <td>1.987124</td>\n",
       "      <td>0.493562</td>\n",
       "      <td>3.935622</td>\n",
       "      <td>3.218884</td>\n",
       "      <td>3.227468</td>\n",
       "      <td>1.527897</td>\n",
       "      <td>2.403433</td>\n",
       "      <td>6.454936</td>\n",
       "      <td>7.626609</td>\n",
       "    </tr>\n",
       "  </tbody>\n",
       "</table>\n",
       "</div>"
      ],
      "text/plain": [
       "            age  traveltime  studytime  failures    famrel  freetime  \\\n",
       "fail                                                                   \n",
       "0     16.481481    1.358025   2.104938  0.104938  3.956790  3.259259   \n",
       "1     16.845494    1.510730   1.987124  0.493562  3.935622  3.218884   \n",
       "\n",
       "         goout      Dalc      Walc  absences         G3  \n",
       "fail                                                     \n",
       "0     2.938272  1.413580  2.129630  4.635802  14.425926  \n",
       "1     3.227468  1.527897  2.403433  6.454936   7.626609  "
      ]
     },
     "execution_count": 39,
     "metadata": {},
     "output_type": "execute_result"
    }
   ],
   "source": [
    "data.groupby('fail').mean()"
   ]
  },
  {
   "cell_type": "markdown",
   "metadata": {},
   "source": [
    "## Data Visualization\n",
    "\n",
    "show plots in the notebook"
   ]
  },
  {
   "cell_type": "code",
   "execution_count": 40,
   "metadata": {
    "collapsed": true
   },
   "outputs": [],
   "source": [
    "%matplotlib inline"
   ]
  },
  {
   "cell_type": "markdown",
   "metadata": {},
   "source": [
    "We can visualize the histograms of Age and Workday Alcohol Consumption"
   ]
  },
  {
   "cell_type": "code",
   "execution_count": 41,
   "metadata": {
    "collapsed": false
   },
   "outputs": [
    {
     "data": {
      "text/plain": [
       "<matplotlib.text.Text at 0x1359d7f0>"
      ]
     },
     "execution_count": 41,
     "metadata": {},
     "output_type": "execute_result"
    },
    {
     "data": {
      "image/png": "[encoded data removed]",
      "text/plain": [
       "<matplotlib.figure.Figure at 0x130ecd70>"
      ]
     },
     "metadata": {},
     "output_type": "display_data"
    }
   ],
   "source": [
    "\n",
    "# histogram of Age\n",
    "data.age.hist()\n",
    "plt.title('Histogram Age')\n",
    "plt.xlabel('Age')\n",
    "plt.ylabel('Frequency')"
   ]
  },
  {
   "cell_type": "code",
   "execution_count": 42,
   "metadata": {
    "collapsed": false
   },
   "outputs": [
    {
     "data": {
      "text/plain": [
       "<matplotlib.text.Text at 0x13611f30>"
      ]
     },
     "execution_count": 42,
     "metadata": {},
     "output_type": "execute_result"
    },
    {
     "data": {
      "image/png": "[encoded data removed]",
      "text/plain": [
       "<matplotlib.figure.Figure at 0x135adff0>"
      ]
     },
     "metadata": {},
     "output_type": "display_data"
    }
   ],
   "source": [
    "# histogram of Dalc\n",
    "data.Dalc.hist()\n",
    "plt.title('Histogram Workday Alcohol Consumption')\n",
    "plt.xlabel('Workday Alcohol Consumption')\n",
    "plt.ylabel('Frequency')"
   ]
  },
  {
   "cell_type": "code",
   "execution_count": 43,
   "metadata": {
    "collapsed": false
   },
   "outputs": [
    {
     "data": {
      "text/plain": [
       "<matplotlib.text.Text at 0x13900070>"
      ]
     },
     "execution_count": 43,
     "metadata": {},
     "output_type": "execute_result"
    },
    {
     "data": {
      "image/png": "[encoded data removed]",
      "text/plain": [
       "<matplotlib.figure.Figure at 0x13618770>"
      ]
     },
     "metadata": {},
     "output_type": "display_data"
    }
   ],
   "source": [
    "# barplot of age grouped by affair (True or False)\n",
    "pd.crosstab(data.age, data.fail.astype(bool)).plot(kind='bar')\n",
    "plt.title('Age Distribution by Fail Status')\n",
    "plt.xlabel('Age')\n",
    "plt.ylabel('Frequency')"
   ]
  },
  {
   "cell_type": "code",
   "execution_count": 44,
   "metadata": {
    "collapsed": false
   },
   "outputs": [
    {
     "data": {
      "text/plain": [
       "<matplotlib.text.Text at 0x12fdbff0>"
      ]
     },
     "execution_count": 44,
     "metadata": {},
     "output_type": "execute_result"
    },
    {
     "data": {
      "image/png": "[encoded data removed]",
      "text/plain": [
       "<matplotlib.figure.Figure at 0x13a84630>"
      ]
     },
     "metadata": {},
     "output_type": "display_data"
    }
   ],
   "source": [
    "#Stacked barplot to look at the percentage of students failing by weekday alcohol consumption.\n",
    "\n",
    "fail_Dalc = pd.crosstab(data.Dalc, data.fail.astype(bool))\n",
    "fail_Dalc.div(fail_Dalc.sum(1).astype(float), axis=0).plot(kind='bar', stacked=True)\n",
    "plt.title('Fail Percentage by Workday Alcohol Consumption ')\n",
    "plt.xlabel('Alcohol Consumption')\n",
    "plt.ylabel('Percentage')"
   ]
  },
  {
   "cell_type": "markdown",
   "metadata": {},
   "source": [
    "## Prepare Data for Logistic Regression\n",
    "\n",
    "To prepare the data, I added an intercept column as well as dummy variables for sex, address, Pstatus and studytime, because they are categorial variables. For this I use the dmatrices function from the patsy module.\n"
   ]
  },
  {
   "cell_type": "code",
   "execution_count": 45,
   "metadata": {
    "collapsed": false
   },
   "outputs": [
    {
     "name": "stdout",
     "output_type": "stream",
     "text": [
      "Index([u'Intercept', u'C(sex)[T.M]', u'C(address)[T.U]', u'C(Pstatus)[T.T]',\n",
      "       u'C(studytime)[T.2]', u'C(studytime)[T.3]', u'C(studytime)[T.4]',\n",
      "       u'age', u'traveltime', u'failures', u'freetime', u'goout', u'Dalc',\n",
      "       u'Walc', u'absences'],\n",
      "      dtype='object')\n"
     ]
    }
   ],
   "source": [
    "# create dataframes with an intercept column and dummy variables for\n",
    "# occupation and occupation_husb\n",
    "#y, X = dmatrices('fail ~  Dalc + Walc + absences',data, return_type=\"dataframe\")\n",
    "y, X = dmatrices('fail ~  C(sex) + age + C(address) + C(Pstatus) + traveltime \\\n",
    "                        +C(studytime) + failures + freetime + goout + Dalc + Walc + absences',data, return_type=\"dataframe\")\n",
    "\n",
    "print (X.columns)"
   ]
  },
  {
   "cell_type": "markdown",
   "metadata": {},
   "source": [
    "We also need to flatten y into a 1-D array, so that scikit-learn will properly understand it as the response variable."
   ]
  },
  {
   "cell_type": "code",
   "execution_count": 46,
   "metadata": {
    "collapsed": true
   },
   "outputs": [],
   "source": [
    "# flatten y into a 1-D array\n",
    "y = np.ravel(y)"
   ]
  },
  {
   "cell_type": "markdown",
   "metadata": {},
   "source": [
    "## Logistic Regression\n",
    "\n",
    "We run a logistic regression on the entire data set and test how accurate it is. \n",
    "Let's go ahead and run logistic regression on the entire data set, and see how accurate it is!\n"
   ]
  },
  {
   "cell_type": "code",
   "execution_count": 47,
   "metadata": {
    "collapsed": false
   },
   "outputs": [
    {
     "data": {
      "text/plain": [
       "0.65316455696202536"
      ]
     },
     "execution_count": 47,
     "metadata": {},
     "output_type": "execute_result"
    }
   ],
   "source": [
    "# instantiate a logistic regression model, and fit with X and y\n",
    "model = LogisticRegression()\n",
    "model = model.fit(X, y)\n",
    "\n",
    "# check the accuracy on the training set\n",
    "model.score(X, y)"
   ]
  },
  {
   "cell_type": "markdown",
   "metadata": {},
   "source": [
    "To compute the null error rate: "
   ]
  },
  {
   "cell_type": "code",
   "execution_count": 48,
   "metadata": {
    "collapsed": false
   },
   "outputs": [
    {
     "data": {
      "text/plain": [
       "0.58987341772151902"
      ]
     },
     "execution_count": 48,
     "metadata": {},
     "output_type": "execute_result"
    }
   ],
   "source": [
    "# what percentage had affairs?\n",
    "y.mean()"
   ]
  },
  {
   "cell_type": "markdown",
   "metadata": {},
   "source": [
    "Let's examine the coefficients to see what we learn."
   ]
  },
  {
   "cell_type": "code",
   "execution_count": 49,
   "metadata": {
    "collapsed": false
   },
   "outputs": [
    {
     "data": {
      "text/html": [
       "<div>\n",
       "<table border=\"1\" class=\"dataframe\">\n",
       "  <thead>\n",
       "    <tr style=\"text-align: right;\">\n",
       "      <th></th>\n",
       "      <th>0</th>\n",
       "      <th>1</th>\n",
       "    </tr>\n",
       "  </thead>\n",
       "  <tbody>\n",
       "    <tr>\n",
       "      <th>0</th>\n",
       "      <td>Intercept</td>\n",
       "      <td>[-0.286420110125]</td>\n",
       "    </tr>\n",
       "    <tr>\n",
       "      <th>1</th>\n",
       "      <td>C(sex)[T.M]</td>\n",
       "      <td>[-0.618362988883]</td>\n",
       "    </tr>\n",
       "    <tr>\n",
       "      <th>2</th>\n",
       "      <td>C(address)[T.U]</td>\n",
       "      <td>[-0.409761496105]</td>\n",
       "    </tr>\n",
       "    <tr>\n",
       "      <th>3</th>\n",
       "      <td>C(Pstatus)[T.T]</td>\n",
       "      <td>[0.12059034248]</td>\n",
       "    </tr>\n",
       "    <tr>\n",
       "      <th>4</th>\n",
       "      <td>C(studytime)[T.2]</td>\n",
       "      <td>[0.305077596296]</td>\n",
       "    </tr>\n",
       "    <tr>\n",
       "      <th>5</th>\n",
       "      <td>C(studytime)[T.3]</td>\n",
       "      <td>[-0.369179708167]</td>\n",
       "    </tr>\n",
       "    <tr>\n",
       "      <th>6</th>\n",
       "      <td>C(studytime)[T.4]</td>\n",
       "      <td>[-0.175597344827]</td>\n",
       "    </tr>\n",
       "    <tr>\n",
       "      <th>7</th>\n",
       "      <td>age</td>\n",
       "      <td>[0.0215476805789]</td>\n",
       "    </tr>\n",
       "    <tr>\n",
       "      <th>8</th>\n",
       "      <td>traveltime</td>\n",
       "      <td>[0.201185849377]</td>\n",
       "    </tr>\n",
       "    <tr>\n",
       "      <th>9</th>\n",
       "      <td>failures</td>\n",
       "      <td>[0.93183497283]</td>\n",
       "    </tr>\n",
       "    <tr>\n",
       "      <th>10</th>\n",
       "      <td>freetime</td>\n",
       "      <td>[-0.105296239149]</td>\n",
       "    </tr>\n",
       "    <tr>\n",
       "      <th>11</th>\n",
       "      <td>goout</td>\n",
       "      <td>[0.191218499666]</td>\n",
       "    </tr>\n",
       "    <tr>\n",
       "      <th>12</th>\n",
       "      <td>Dalc</td>\n",
       "      <td>[-0.0452957831421]</td>\n",
       "    </tr>\n",
       "    <tr>\n",
       "      <th>13</th>\n",
       "      <td>Walc</td>\n",
       "      <td>[0.0939036628205]</td>\n",
       "    </tr>\n",
       "    <tr>\n",
       "      <th>14</th>\n",
       "      <td>absences</td>\n",
       "      <td>[0.0180904247671]</td>\n",
       "    </tr>\n",
       "  </tbody>\n",
       "</table>\n",
       "</div>"
      ],
      "text/plain": [
       "                    0                   1\n",
       "0           Intercept   [-0.286420110125]\n",
       "1         C(sex)[T.M]   [-0.618362988883]\n",
       "2     C(address)[T.U]   [-0.409761496105]\n",
       "3     C(Pstatus)[T.T]     [0.12059034248]\n",
       "4   C(studytime)[T.2]    [0.305077596296]\n",
       "5   C(studytime)[T.3]   [-0.369179708167]\n",
       "6   C(studytime)[T.4]   [-0.175597344827]\n",
       "7                 age   [0.0215476805789]\n",
       "8          traveltime    [0.201185849377]\n",
       "9            failures     [0.93183497283]\n",
       "10           freetime   [-0.105296239149]\n",
       "11              goout    [0.191218499666]\n",
       "12               Dalc  [-0.0452957831421]\n",
       "13               Walc   [0.0939036628205]\n",
       "14           absences   [0.0180904247671]"
      ]
     },
     "execution_count": 49,
     "metadata": {},
     "output_type": "execute_result"
    }
   ],
   "source": [
    "# examine the coefficients\n",
    "pd.DataFrame(zip(X.columns, np.transpose(model.coef_)))"
   ]
  },
  {
   "cell_type": "markdown",
   "metadata": {},
   "source": [
    "## Model Evaluation Using a Validation Set\n",
    "\n",
    "So far, we have trained and tested on the same set. Let's instead split the data into a training set and a testing set.\n"
   ]
  },
  {
   "cell_type": "code",
   "execution_count": 50,
   "metadata": {
    "collapsed": false
   },
   "outputs": [
    {
     "data": {
      "text/plain": [
       "LogisticRegression(C=1.0, class_weight=None, dual=False, fit_intercept=True,\n",
       "          intercept_scaling=1, max_iter=100, multi_class='ovr', n_jobs=1,\n",
       "          penalty='l2', random_state=None, solver='liblinear', tol=0.0001,\n",
       "          verbose=0, warm_start=False)"
      ]
     },
     "execution_count": 50,
     "metadata": {},
     "output_type": "execute_result"
    }
   ],
   "source": [
    "#Model Evaluation Using a Validation Set\n",
    "# evaluate the model by splitting into train and test sets\n",
    "X_train, X_test, y_train, y_test = train_test_split(X, y, test_size=0.3, random_state=0)\n",
    "model2 = LogisticRegression()\n",
    "model2.fit(X_train, y_train)"
   ]
  },
  {
   "cell_type": "markdown",
   "metadata": {},
   "source": [
    "We now need to predict class labels for the test set. We will also generate the class probabilities, just to take a look."
   ]
  },
  {
   "cell_type": "code",
   "execution_count": 51,
   "metadata": {
    "collapsed": false
   },
   "outputs": [
    {
     "name": "stdout",
     "output_type": "stream",
     "text": [
      "[ 0.  0.  0.  1.  1.  0.  1.  1.  0.  0.  1.  1.  0.  0.  1.  0.  1.  0.\n",
      "  1.  1.  1.  1.  0.  0.  1.  0.  1.  0.  0.  0.  1.  1.  0.  1.  0.  1.\n",
      "  1.  1.  1.  0.  1.  1.  1.  1.  1.  1.  1.  1.  0.  1.  0.  0.  1.  1.\n",
      "  0.  1.  1.  0.  0.  0.  0.  1.  1.  1.  0.  0.  0.  1.  1.  0.  1.  0.\n",
      "  0.  1.  1.  0.  0.  0.  1.  1.  1.  1.  0.  0.  1.  1.  0.  1.  0.  1.\n",
      "  1.  1.  1.  1.  1.  0.  1.  1.  1.  0.  0.  1.  1.  1.  1.  0.  0.  1.\n",
      "  1.  1.  1.  0.  0.  1.  1.  1.  1.  1.  0.]\n"
     ]
    }
   ],
   "source": [
    "# predict class labels for the test set\n",
    "predicted = model2.predict(X_test)\n",
    "print (predicted)"
   ]
  },
  {
   "cell_type": "code",
   "execution_count": 52,
   "metadata": {
    "collapsed": false
   },
   "outputs": [
    {
     "name": "stdout",
     "output_type": "stream",
     "text": [
      "[[ 0.57951509  0.42048491]\n",
      " [ 0.50216235  0.49783765]\n",
      " [ 0.57802364  0.42197636]\n",
      " [ 0.31993524  0.68006476]\n",
      " [ 0.39025624  0.60974376]\n",
      " [ 0.63533307  0.36466693]\n",
      " [ 0.36413799  0.63586201]\n",
      " [ 0.27902769  0.72097231]\n",
      " [ 0.54647523  0.45352477]\n",
      " [ 0.6142033   0.3857967 ]\n",
      " [ 0.32359631  0.67640369]\n",
      " [ 0.17170473  0.82829527]\n",
      " [ 0.72443105  0.27556895]\n",
      " [ 0.59066382  0.40933618]\n",
      " [ 0.33354211  0.66645789]\n",
      " [ 0.6418493   0.3581507 ]\n",
      " [ 0.40422379  0.59577621]\n",
      " [ 0.64760397  0.35239603]\n",
      " [ 0.44866206  0.55133794]\n",
      " [ 0.40166485  0.59833515]\n",
      " [ 0.33798707  0.66201293]\n",
      " [ 0.12787262  0.87212738]\n",
      " [ 0.67628326  0.32371674]\n",
      " [ 0.52031481  0.47968519]\n",
      " [ 0.38722049  0.61277951]\n",
      " [ 0.57248573  0.42751427]\n",
      " [ 0.22748797  0.77251203]\n",
      " [ 0.6799977   0.3200023 ]\n",
      " [ 0.70635935  0.29364065]\n",
      " [ 0.6426705   0.3573295 ]\n",
      " [ 0.15285829  0.84714171]\n",
      " [ 0.17382958  0.82617042]\n",
      " [ 0.74103607  0.25896393]\n",
      " [ 0.08516218  0.91483782]\n",
      " [ 0.51538439  0.48461561]\n",
      " [ 0.1633932   0.8366068 ]\n",
      " [ 0.45563022  0.54436978]\n",
      " [ 0.23751936  0.76248064]\n",
      " [ 0.44565779  0.55434221]\n",
      " [ 0.58477422  0.41522578]\n",
      " [ 0.38500982  0.61499018]\n",
      " [ 0.35345961  0.64654039]\n",
      " [ 0.18245306  0.81754694]\n",
      " [ 0.37606795  0.62393205]\n",
      " [ 0.37261431  0.62738569]\n",
      " [ 0.1582019   0.8417981 ]\n",
      " [ 0.37245569  0.62754431]\n",
      " [ 0.2309434   0.7690566 ]\n",
      " [ 0.5286891   0.4713109 ]\n",
      " [ 0.02812221  0.97187779]\n",
      " [ 0.69661392  0.30338608]\n",
      " [ 0.79080031  0.20919969]\n",
      " [ 0.38144011  0.61855989]\n",
      " [ 0.44544914  0.55455086]\n",
      " [ 0.63942936  0.36057064]\n",
      " [ 0.35081448  0.64918552]\n",
      " [ 0.47592197  0.52407803]\n",
      " [ 0.51640005  0.48359995]\n",
      " [ 0.66136436  0.33863564]\n",
      " [ 0.58326339  0.41673661]\n",
      " [ 0.64109124  0.35890876]\n",
      " [ 0.45819302  0.54180698]\n",
      " [ 0.47958596  0.52041404]\n",
      " [ 0.3515829   0.6484171 ]\n",
      " [ 0.69067252  0.30932748]\n",
      " [ 0.55888811  0.44111189]\n",
      " [ 0.61387496  0.38612504]\n",
      " [ 0.2581154   0.7418846 ]\n",
      " [ 0.21798548  0.78201452]\n",
      " [ 0.62625576  0.37374424]\n",
      " [ 0.20393253  0.79606747]\n",
      " [ 0.66144631  0.33855369]\n",
      " [ 0.62862572  0.37137428]\n",
      " [ 0.18139221  0.81860779]\n",
      " [ 0.03364517  0.96635483]\n",
      " [ 0.73220918  0.26779082]\n",
      " [ 0.68867145  0.31132855]\n",
      " [ 0.56691353  0.43308647]\n",
      " [ 0.09442268  0.90557732]\n",
      " [ 0.46015067  0.53984933]\n",
      " [ 0.32120109  0.67879891]\n",
      " [ 0.24035078  0.75964922]\n",
      " [ 0.64631199  0.35368801]\n",
      " [ 0.72195806  0.27804194]\n",
      " [ 0.36037515  0.63962485]\n",
      " [ 0.40695257  0.59304743]\n",
      " [ 0.55551154  0.44448846]\n",
      " [ 0.42328457  0.57671543]\n",
      " [ 0.54110373  0.45889627]\n",
      " [ 0.40783249  0.59216751]\n",
      " [ 0.22498801  0.77501199]\n",
      " [ 0.36775055  0.63224945]\n",
      " [ 0.29632012  0.70367988]\n",
      " [ 0.32760996  0.67239004]\n",
      " [ 0.40350488  0.59649512]\n",
      " [ 0.68438952  0.31561048]\n",
      " [ 0.48416329  0.51583671]\n",
      " [ 0.48912477  0.51087523]\n",
      " [ 0.2194973   0.7805027 ]\n",
      " [ 0.80617763  0.19382237]\n",
      " [ 0.61951287  0.38048713]\n",
      " [ 0.23673793  0.76326207]\n",
      " [ 0.43855329  0.56144671]\n",
      " [ 0.35335464  0.64664536]\n",
      " [ 0.37696563  0.62303437]\n",
      " [ 0.52935758  0.47064242]\n",
      " [ 0.70618448  0.29381552]\n",
      " [ 0.19832544  0.80167456]\n",
      " [ 0.06325538  0.93674462]\n",
      " [ 0.06990601  0.93009399]\n",
      " [ 0.28485453  0.71514547]\n",
      " [ 0.52867959  0.47132041]\n",
      " [ 0.5662315   0.4337685 ]\n",
      " [ 0.41207359  0.58792641]\n",
      " [ 0.47590764  0.52409236]\n",
      " [ 0.3795473   0.6204527 ]\n",
      " [ 0.36775055  0.63224945]\n",
      " [ 0.27774532  0.72225468]\n",
      " [ 0.51182002  0.48817998]]\n"
     ]
    }
   ],
   "source": [
    "# generate class probabilities\n",
    "probs = model2.predict_proba(X_test)\n",
    "print (probs)"
   ]
  },
  {
   "cell_type": "markdown",
   "metadata": {},
   "source": [
    "Now we generate some evaluation metrics."
   ]
  },
  {
   "cell_type": "code",
   "execution_count": 53,
   "metadata": {
    "collapsed": false
   },
   "outputs": [
    {
     "name": "stdout",
     "output_type": "stream",
     "text": [
      "0.621848739496\n"
     ]
    }
   ],
   "source": [
    "# generate evaluation metrics\n",
    "print (metrics.accuracy_score(y_test, predicted))"
   ]
  },
  {
   "cell_type": "code",
   "execution_count": 54,
   "metadata": {
    "collapsed": false
   },
   "outputs": [
    {
     "name": "stdout",
     "output_type": "stream",
     "text": [
      "0.642342342342\n"
     ]
    }
   ],
   "source": [
    "print (metrics.roc_auc_score(y_test, probs[:, 1]))"
   ]
  },
  {
   "cell_type": "markdown",
   "metadata": {},
   "source": [
    "The accuracy is 73%, which is the same as we experienced when training and predicting on the same data.\n",
    "We can also see the confusion matrix and a classification report with other metrics.\n"
   ]
  },
  {
   "cell_type": "code",
   "execution_count": 55,
   "metadata": {
    "collapsed": false
   },
   "outputs": [
    {
     "name": "stdout",
     "output_type": "stream",
     "text": [
      "[[24 21]\n",
      " [24 50]]\n"
     ]
    }
   ],
   "source": [
    "print (metrics.confusion_matrix(y_test, predicted))"
   ]
  },
  {
   "cell_type": "code",
   "execution_count": 56,
   "metadata": {
    "collapsed": false
   },
   "outputs": [
    {
     "name": "stdout",
     "output_type": "stream",
     "text": [
      "             precision    recall  f1-score   support\n",
      "\n",
      "        0.0       0.50      0.53      0.52        45\n",
      "        1.0       0.70      0.68      0.69        74\n",
      "\n",
      "avg / total       0.63      0.62      0.62       119\n",
      "\n"
     ]
    }
   ],
   "source": [
    "print (metrics.classification_report(y_test, predicted))"
   ]
  },
  {
   "cell_type": "markdown",
   "metadata": {},
   "source": [
    "## Model Evaluation Using Cross-Validation\n",
    "\n",
    "Now let's try 10-fold cross-validation, to see if the accuracy holds up more rigorously.\n"
   ]
  },
  {
   "cell_type": "code",
   "execution_count": 57,
   "metadata": {
    "collapsed": false
   },
   "outputs": [
    {
     "name": "stdout",
     "output_type": "stream",
     "text": [
      "[ 0.70731707  0.63414634  0.65        0.66666667  0.53846154  0.48717949\n",
      "  0.66666667  0.64102564  0.58974359  0.56410256]\n"
     ]
    }
   ],
   "source": [
    "# evaluate the model using 10-fold cross-validation\n",
    "scores = cross_val_score(LogisticRegression(), X, y, scoring='accuracy', cv=10)\n",
    "print (scores)"
   ]
  },
  {
   "cell_type": "code",
   "execution_count": 58,
   "metadata": {
    "collapsed": false
   },
   "outputs": [
    {
     "name": "stdout",
     "output_type": "stream",
     "text": [
      "0.614530956848\n"
     ]
    }
   ],
   "source": [
    "print (scores.mean())"
   ]
  },
  {
   "cell_type": "markdown",
   "metadata": {},
   "source": [
    "Looks good. It's still performing at 73% accuracy."
   ]
  },
  {
   "cell_type": "markdown",
   "metadata": {},
   "source": [
    "## Predicting the Probability of an Affair\n",
    "\n",
    "We can predict the probability of failing for a random student not present in the data set. \n"
   ]
  },
  {
   "cell_type": "code",
   "execution_count": 59,
   "metadata": {
    "collapsed": false
   },
   "outputs": [
    {
     "name": "stderr",
     "output_type": "stream",
     "text": [
      "C:\\Users\\k43e-msr1-red-r\\Anaconda2\\lib\\site-packages\\sklearn\\utils\\validation.py:386: DeprecationWarning: Passing 1d arrays as data is deprecated in 0.17 and willraise ValueError in 0.19. Reshape your data either using X.reshape(-1, 1) if your data has a single feature or X.reshape(1, -1) if it contains a single sample.\n",
      "  DeprecationWarning)\n"
     ]
    },
    {
     "data": {
      "text/plain": [
       "array([[ 0.04995553,  0.95004447]])"
      ]
     },
     "execution_count": 59,
     "metadata": {},
     "output_type": "execute_result"
    }
   ],
   "source": [
    "# Predict the probability of a student failing : 2nd value \n",
    "model.predict_proba(np.array([1,1,1,1,1,0,0,22,2,3,3,3,4,3,5]))"
   ]
  },
  {
   "cell_type": "code",
   "execution_count": null,
   "metadata": {
    "collapsed": true
   },
   "outputs": [],
   "source": []
  }
 ],
 "metadata": {
  "kernelspec": {
   "display_name": "Python 2",
   "language": "python",
   "name": "python2"
  },
  "language_info": {
   "codemirror_mode": {
    "name": "ipython",
    "version": 2
   },
   "file_extension": ".py",
   "mimetype": "text/x-python",
   "name": "python",
   "nbconvert_exporter": "python",
   "pygments_lexer": "ipython2",
   "version": "2.7.11"
  }
 },
 "nbformat": 4,
 "nbformat_minor": 0
}
